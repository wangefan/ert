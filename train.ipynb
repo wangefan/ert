{
  "nbformat": 4,
  "nbformat_minor": 0,
  "metadata": {
    "colab": {
      "name": "train",
      "provenance": [],
      "collapsed_sections": [
        "LZGxsbW88Amf",
        "0T2AqVNFuOHr",
        "jUhVQDK2EHq2",
        "cX4vm-aBjTse"
      ],
      "toc_visible": true
    },
    "kernelspec": {
      "name": "python3",
      "display_name": "Python 3"
    },
    "language_info": {
      "name": "python"
    }
  },
  "cells": [
    {
      "cell_type": "markdown",
      "metadata": {
        "id": "CDVfASbkvzzZ"
      },
      "source": [
        "# Mount google drive"
      ]
    },
    {
      "cell_type": "code",
      "metadata": {
        "colab": {
          "base_uri": "https://localhost:8080/"
        },
        "id": "9CJnZRuhv3en",
        "outputId": "94ef49ed-3ce9-4cc1-adf4-97815960dc8a"
      },
      "source": [
        "# Mount Google Drive\n",
        "from google.colab import drive # import drive from google colab\n",
        "\n",
        "ROOT = \"/content/drive\"     # default location for the drive\n",
        "drive.mount(ROOT)           # we mount the google drive at /content/drive\n"
      ],
      "execution_count": 5,
      "outputs": [
        {
          "output_type": "stream",
          "name": "stdout",
          "text": [
            "Drive already mounted at /content/drive; to attempt to forcibly remount, call drive.mount(\"/content/drive\", force_remount=True).\n"
          ]
        }
      ]
    },
    {
      "cell_type": "markdown",
      "metadata": {
        "id": "8xTMqZDR20vR"
      },
      "source": [
        "# Clone github repository setup"
      ]
    },
    {
      "cell_type": "code",
      "metadata": {
        "colab": {
          "base_uri": "https://localhost:8080/"
        },
        "id": "psJqj1HBwELQ",
        "outputId": "bfb96ec0-b0f7-473c-ec56-449e65a4b4c2"
      },
      "source": [
        "# import join used to join ROOT path and MY_GOOGLE_DRIVE_PATH\n",
        "from os.path import join  \n",
        "\n",
        "MY_GOOGLE_DRIVE_PATH = join(ROOT, 'My Drive/')\n",
        "\n",
        "GIT_USERNAME = \"wangefan\" \n",
        "GIT_REPOSITORY = \"ert\"\n",
        "\n",
        "PROJECT_PATH = join(MY_GOOGLE_DRIVE_PATH, 'machine_learning/ert')\n",
        "TEMP_PATH = join(MY_GOOGLE_DRIVE_PATH, 'temp/')\n",
        "\n",
        "# It's good to print out the value if you are not sure \n",
        "print(\"PROJECT_PATH: \", PROJECT_PATH)\n",
        "print(\"TEMP_PATH: \", TEMP_PATH)\n",
        "\n",
        "# In case we haven't created the folder already; we will create a folder in the project path \n",
        "!mkdir \"{PROJECT_PATH}\"    \n",
        "\n",
        "GIT_PATH = \"https://github.com/wangefan/ert.git\"\n",
        "print(\"GIT_PATH: \", GIT_PATH)"
      ],
      "execution_count": 6,
      "outputs": [
        {
          "output_type": "stream",
          "name": "stdout",
          "text": [
            "PROJECT_PATH:  /content/drive/My Drive/machine_learning/ert\n",
            "TEMP_PATH:  /content/drive/My Drive/temp/\n",
            "mkdir: cannot create directory ‘/content/drive/My Drive/machine_learning/ert’: File exists\n",
            "GIT_PATH:  https://github.com/wangefan/ert.git\n"
          ]
        }
      ]
    },
    {
      "cell_type": "markdown",
      "metadata": {
        "id": "6tUeIw0033Mf"
      },
      "source": [
        "# Do clone and copy from Github"
      ]
    },
    {
      "cell_type": "code",
      "metadata": {
        "colab": {
          "base_uri": "https://localhost:8080/"
        },
        "id": "LttNg0vl0eIc",
        "outputId": "fd6d27f0-67a2-4745-c936-4fda2ff4d6c5"
      },
      "source": [
        "!mkdir \"{TEMP_PATH}\"\n",
        "!git clone \"{GIT_PATH}\" \"{TEMP_PATH}\"\n",
        "#!mv \"{TEMP_PATH}\"/* \"{PROJECT_PATH}\"    \n",
        "!rsync -aP --exclude=data/ \"{TEMP_PATH}\"/* \"{PROJECT_PATH}\"\n",
        "!rm -rf \"{TEMP_PATH}\""
      ],
      "execution_count": 7,
      "outputs": [
        {
          "output_type": "stream",
          "name": "stdout",
          "text": [
            "Cloning into '/content/drive/My Drive/temp'...\n",
            "remote: Enumerating objects: 43, done.\u001b[K\n",
            "remote: Counting objects: 100% (43/43), done.\u001b[K\n",
            "remote: Compressing objects: 100% (28/28), done.\u001b[K\n",
            "remote: Total 43 (delta 20), reused 31 (delta 14), pack-reused 0\u001b[K\n",
            "Unpacking objects: 100% (43/43), done.\n",
            "sending incremental file list\n",
            "Configuration.py\n",
            "            849 100%    0.00kB/s    0:00:00 (xfr#1, to-chk=11/12)\n",
            "ConvertTrainData.py\n",
            "          1,658 100%    1.58MB/s    0:00:00 (xfr#2, to-chk=10/12)\n",
            "ERT.py\n",
            "          8,461 100%    8.07MB/s    0:00:00 (xfr#3, to-chk=9/12)\n",
            "Ferm.py\n",
            "         19,483 100%   18.58MB/s    0:00:00 (xfr#4, to-chk=8/12)\n",
            "Regressor.py\n",
            "          6,458 100%    3.08MB/s    0:00:00 (xfr#5, to-chk=7/12)\n",
            "SampleData.py\n",
            "         13,795 100%    4.39MB/s    0:00:00 (xfr#6, to-chk=6/12)\n",
            "TestMain.py\n",
            "            428 100%  139.32kB/s    0:00:00 (xfr#7, to-chk=5/12)\n",
            "TestVideoMain.py\n",
            "            862 100%  210.45kB/s    0:00:00 (xfr#8, to-chk=4/12)\n",
            "TrainMain.py\n",
            "          1,714 100%  418.46kB/s    0:00:00 (xfr#9, to-chk=3/12)\n",
            "Utilis.py\n",
            "         10,676 100%    2.04MB/s    0:00:00 (xfr#10, to-chk=2/12)\n",
            "CascadeClassifier/\n",
            "CascadeClassifier/haarcascade_frontalface_alt2.xml\n",
            "        540,616 100%    2.08MB/s    0:00:00 (xfr#11, to-chk=0/12)\n"
          ]
        }
      ]
    },
    {
      "cell_type": "markdown",
      "metadata": {
        "id": "0FPy-wkKGMCA"
      },
      "source": [
        "# Begin to train"
      ]
    },
    {
      "cell_type": "code",
      "metadata": {
        "id": "IWe1zW-L8Gof",
        "colab": {
          "base_uri": "https://localhost:8080/"
        },
        "outputId": "ef4c8fc8-2443-47ef-ae03-cdcc59ba3dd5"
      },
      "source": [
        "% cd \"{PROJECT_PATH}\"\n",
        "!pwd\n",
        "!ls\n",
        "!python TrainMain.py"
      ],
      "execution_count": 8,
      "outputs": [
        {
          "output_type": "stream",
          "name": "stdout",
          "text": [
            "/content/drive/My Drive/machine_learning/ert\n",
            "/content/drive/My Drive/machine_learning/ert\n",
            "CascadeClassifier    ERT.py   __pycache__    TestMain.py       Utilis.py\n",
            "Configuration.py     Ferm.py  Regressor.py   TestVideoMain.py\n",
            "ConvertTrainData.py  lfpw     SampleData.py  TrainMain.py\n",
            "1. Prepare data\n",
            "Traceback (most recent call last):\n",
            "  File \"TrainMain.py\", line 17, in <module>\n",
            "    Utilis.load_data(train_images_path, train_labels_path, train_data)\n",
            "  File \"/content/drive/My Drive/machine_learning/ert/Utilis.py\", line 27, in load_data\n",
            "    sampleDatas = SampleData.samplesFrom(img_name, images_path, labels_path)\n",
            "  File \"/content/drive/My Drive/machine_learning/ert/SampleData.py\", line 323, in samplesFrom\n",
            "    return SampleData.samplesFrom(img_name, images_path, labels_path)\n",
            "  File \"/content/drive/My Drive/machine_learning/ert/SampleData.py\", line 133, in samplesFrom\n",
            "    land_mark_truth_obj = SampleData.landMarkFrom(full_label_path)\n",
            "  File \"/content/drive/My Drive/machine_learning/ert/SampleData.py\", line 89, in landMarkFrom\n",
            "    lines = f.readlines()\n",
            "  File \"/usr/lib/python3.7/codecs.py\", line 319, in decode\n",
            "    def decode(self, input, final=False):\n",
            "KeyboardInterrupt\n"
          ]
        }
      ]
    }
  ]
}